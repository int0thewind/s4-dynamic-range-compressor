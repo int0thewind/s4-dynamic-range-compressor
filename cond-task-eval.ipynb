{
 "cells": [
  {
   "cell_type": "code",
   "execution_count": 1,
   "metadata": {},
   "outputs": [],
   "source": [
    "import time\n",
    "from collections import defaultdict\n",
    "from pathlib import Path\n",
    "from statistics import mean\n",
    "\n",
    "import pandas as pd\n",
    "import torch\n",
    "from scipy.io import wavfile\n",
    "from scipy.signal import freqz\n",
    "from torch import Tensor\n",
    "from tqdm.notebook import tqdm\n",
    "\n",
    "from s4drc.src.dataset import SignalTrainDatasetModule\n",
    "from s4drc.src.model import S4Model\n",
    "from s4drc.src.loss import forge_validation_criterions_by\n",
    "from s4drc.src.module.db import convert_to_decibel"
   ]
  },
  {
   "attachments": {},
   "cell_type": "markdown",
   "metadata": {},
   "source": [
    "# Model Evaluation"
   ]
  },
  {
   "attachments": {},
   "cell_type": "markdown",
   "metadata": {},
   "source": [
    "This Jupyter Notebook contains routine to evaluate the model.\n",
    "\n",
    "Each individual evaluation task is wrapped in a function to prevent variables going global,\n",
    "All functions will save results to the local file system."
   ]
  },
  {
   "attachments": {},
   "cell_type": "markdown",
   "metadata": {},
   "source": [
    "## <a id=\"preparatory-work\">Preparatory Work</a>"
   ]
  },
  {
   "cell_type": "code",
   "execution_count": 2,
   "metadata": {},
   "outputs": [],
   "source": [
    "ALL_MODEL_DIRS = [\n",
    "    Path('./experiment-result/run-01/checkpoints/epoch=41-step=61908.ckpt'),\n",
    "    Path('./experiment-result/run-02/checkpoints/epoch=46-step=69278.ckpt'),\n",
    "    Path('./experiment-result/run-03/checkpoints/epoch=58-step=86966.ckpt'),\n",
    "    Path('./experiment-result/run-04/checkpoints/epoch=50-step=75174.ckpt'),\n",
    "    Path('./experiment-result/run-05/checkpoints/epoch=13-step=20636.ckpt'),\n",
    "    Path('./experiment-result/run-06/checkpoints/epoch=53-step=79596.ckpt'),\n",
    "    Path('./experiment-result/run-07/checkpoints/epoch=49-step=73700.ckpt'),\n",
    "    Path('./experiment-result/run-08/checkpoints/epoch=55-step=82544.ckpt'),\n",
    "]\n",
    "\n",
    "device = torch.device('cuda' if torch.cuda.is_available() else 'cpu')"
   ]
  },
  {
   "cell_type": "code",
   "execution_count": 3,
   "metadata": {},
   "outputs": [],
   "source": [
    "def get_model(ckpt_dir: Path):\n",
    "    return S4Model.load_from_checkpoint(ckpt_dir).eval()\n",
    "\n",
    "def get_testing_dataloader(ckpt_dir: Path, batch_size: int, testing_segment_length: int):\n",
    "    data_module = SignalTrainDatasetModule.load_from_checkpoint(ckpt_dir, batch_size=batch_size, testing_segment_length=testing_segment_length)\n",
    "    data_module.prepare_data()\n",
    "    return data_module.test_dataloader()"
   ]
  },
  {
   "attachments": {},
   "cell_type": "markdown",
   "metadata": {},
   "source": [
    "## Loss Value (CUDA)"
   ]
  },
  {
   "cell_type": "code",
   "execution_count": 4,
   "metadata": {},
   "outputs": [
    {
     "name": "stdout",
     "output_type": "stream",
     "text": [
      "The SignalTrain dataset has been downloaded. Skipping ... \n"
     ]
    },
    {
     "data": {
      "application/vnd.jupyter.widget-view+json": {
       "model_id": "9f6ecdccc51c4b0ba0a9655a81c6d449",
       "version_major": 2,
       "version_minor": 0
      },
      "text/plain": [
       "Loading dataset from data/SignalTrain/Test.:   0%|          | 0/6 [00:00<?, ?it/s]"
      ]
     },
     "metadata": {},
     "output_type": "display_data"
    },
    {
     "name": "stdout",
     "output_type": "stream",
     "text": [
      "The SignalTrain dataset has been downloaded. Skipping ... \n"
     ]
    },
    {
     "data": {
      "application/vnd.jupyter.widget-view+json": {
       "model_id": "d9baf12565464cbaa777755f58d1d615",
       "version_major": 2,
       "version_minor": 0
      },
      "text/plain": [
       "Loading dataset from data/SignalTrain/Test.:   0%|          | 0/6 [00:00<?, ?it/s]"
      ]
     },
     "metadata": {},
     "output_type": "display_data"
    },
    {
     "name": "stdout",
     "output_type": "stream",
     "text": [
      "Calculating experiment-result/run-01/checkpoints/epoch=41-step=61908.ckpt model testing loss.\n"
     ]
    },
    {
     "data": {
      "application/vnd.jupyter.widget-view+json": {
       "model_id": "e238de2b72874fc6a25aafaf93e316eb",
       "version_major": 2,
       "version_minor": 0
      },
      "text/plain": [
       "Testing 10s dataset.:   0%|          | 0/15 [00:00<?, ?it/s]"
      ]
     },
     "metadata": {},
     "output_type": "display_data"
    },
    {
     "data": {
      "application/vnd.jupyter.widget-view+json": {
       "model_id": "29f067f681d643478888fe12f3862495",
       "version_major": 2,
       "version_minor": 0
      },
      "text/plain": [
       "Testing long dataset.:   0%|          | 0/27 [00:00<?, ?it/s]"
      ]
     },
     "metadata": {},
     "output_type": "display_data"
    },
    {
     "name": "stdout",
     "output_type": "stream",
     "text": [
      "Calculating experiment-result/run-02/checkpoints/epoch=46-step=69278.ckpt model testing loss.\n"
     ]
    },
    {
     "data": {
      "application/vnd.jupyter.widget-view+json": {
       "model_id": "a54534cf24e148b19f0be4f3946a6e8d",
       "version_major": 2,
       "version_minor": 0
      },
      "text/plain": [
       "Testing 10s dataset.:   0%|          | 0/15 [00:00<?, ?it/s]"
      ]
     },
     "metadata": {},
     "output_type": "display_data"
    },
    {
     "data": {
      "application/vnd.jupyter.widget-view+json": {
       "model_id": "de67ccc10421495c9c77265561f6c090",
       "version_major": 2,
       "version_minor": 0
      },
      "text/plain": [
       "Testing long dataset.:   0%|          | 0/27 [00:00<?, ?it/s]"
      ]
     },
     "metadata": {},
     "output_type": "display_data"
    },
    {
     "name": "stdout",
     "output_type": "stream",
     "text": [
      "Calculating experiment-result/run-03/checkpoints/epoch=58-step=86966.ckpt model testing loss.\n"
     ]
    },
    {
     "data": {
      "application/vnd.jupyter.widget-view+json": {
       "model_id": "5c08b7d89fc54ccc92a8cd1edaf3f6f4",
       "version_major": 2,
       "version_minor": 0
      },
      "text/plain": [
       "Testing 10s dataset.:   0%|          | 0/15 [00:00<?, ?it/s]"
      ]
     },
     "metadata": {},
     "output_type": "display_data"
    },
    {
     "data": {
      "application/vnd.jupyter.widget-view+json": {
       "model_id": "f57227c0904c47ea82e4f5fe1c1c63d1",
       "version_major": 2,
       "version_minor": 0
      },
      "text/plain": [
       "Testing long dataset.:   0%|          | 0/27 [00:00<?, ?it/s]"
      ]
     },
     "metadata": {},
     "output_type": "display_data"
    },
    {
     "name": "stdout",
     "output_type": "stream",
     "text": [
      "Calculating experiment-result/run-04/checkpoints/epoch=50-step=75174.ckpt model testing loss.\n"
     ]
    },
    {
     "data": {
      "application/vnd.jupyter.widget-view+json": {
       "model_id": "fa575b20bb9642d6a133076e355bb9a0",
       "version_major": 2,
       "version_minor": 0
      },
      "text/plain": [
       "Testing 10s dataset.:   0%|          | 0/15 [00:00<?, ?it/s]"
      ]
     },
     "metadata": {},
     "output_type": "display_data"
    },
    {
     "data": {
      "application/vnd.jupyter.widget-view+json": {
       "model_id": "f0f7cf096ee7464888b6c9f83747d14c",
       "version_major": 2,
       "version_minor": 0
      },
      "text/plain": [
       "Testing long dataset.:   0%|          | 0/27 [00:00<?, ?it/s]"
      ]
     },
     "metadata": {},
     "output_type": "display_data"
    },
    {
     "name": "stdout",
     "output_type": "stream",
     "text": [
      "Calculating experiment-result/run-05/checkpoints/epoch=13-step=20636.ckpt model testing loss.\n"
     ]
    },
    {
     "data": {
      "application/vnd.jupyter.widget-view+json": {
       "model_id": "870a237af2ed4612ad864b13d736dfdc",
       "version_major": 2,
       "version_minor": 0
      },
      "text/plain": [
       "Testing 10s dataset.:   0%|          | 0/15 [00:00<?, ?it/s]"
      ]
     },
     "metadata": {},
     "output_type": "display_data"
    },
    {
     "data": {
      "application/vnd.jupyter.widget-view+json": {
       "model_id": "e039a817bbf24bcb9b5215625a597794",
       "version_major": 2,
       "version_minor": 0
      },
      "text/plain": [
       "Testing long dataset.:   0%|          | 0/27 [00:00<?, ?it/s]"
      ]
     },
     "metadata": {},
     "output_type": "display_data"
    },
    {
     "name": "stdout",
     "output_type": "stream",
     "text": [
      "Calculating experiment-result/run-06/checkpoints/epoch=53-step=79596.ckpt model testing loss.\n"
     ]
    },
    {
     "data": {
      "application/vnd.jupyter.widget-view+json": {
       "model_id": "18d01920c1c6407784a22798ce13b6af",
       "version_major": 2,
       "version_minor": 0
      },
      "text/plain": [
       "Testing 10s dataset.:   0%|          | 0/15 [00:00<?, ?it/s]"
      ]
     },
     "metadata": {},
     "output_type": "display_data"
    },
    {
     "data": {
      "application/vnd.jupyter.widget-view+json": {
       "model_id": "67dd231ee7c44abbaeb87426d8f71c98",
       "version_major": 2,
       "version_minor": 0
      },
      "text/plain": [
       "Testing long dataset.:   0%|          | 0/27 [00:00<?, ?it/s]"
      ]
     },
     "metadata": {},
     "output_type": "display_data"
    },
    {
     "name": "stdout",
     "output_type": "stream",
     "text": [
      "Calculating experiment-result/run-07/checkpoints/epoch=49-step=73700.ckpt model testing loss.\n"
     ]
    },
    {
     "data": {
      "application/vnd.jupyter.widget-view+json": {
       "model_id": "a9ab1b5261ed498989c74b723ea9c5e8",
       "version_major": 2,
       "version_minor": 0
      },
      "text/plain": [
       "Testing 10s dataset.:   0%|          | 0/15 [00:00<?, ?it/s]"
      ]
     },
     "metadata": {},
     "output_type": "display_data"
    },
    {
     "data": {
      "application/vnd.jupyter.widget-view+json": {
       "model_id": "f04e9cddd28b47bf92ae065c0f21994d",
       "version_major": 2,
       "version_minor": 0
      },
      "text/plain": [
       "Testing long dataset.:   0%|          | 0/27 [00:00<?, ?it/s]"
      ]
     },
     "metadata": {},
     "output_type": "display_data"
    },
    {
     "name": "stdout",
     "output_type": "stream",
     "text": [
      "Calculating experiment-result/run-08/checkpoints/epoch=55-step=82544.ckpt model testing loss.\n"
     ]
    },
    {
     "data": {
      "application/vnd.jupyter.widget-view+json": {
       "model_id": "3fdb1f5c96c54d48a1a3025e8158debd",
       "version_major": 2,
       "version_minor": 0
      },
      "text/plain": [
       "Testing 10s dataset.:   0%|          | 0/15 [00:00<?, ?it/s]"
      ]
     },
     "metadata": {},
     "output_type": "display_data"
    },
    {
     "data": {
      "application/vnd.jupyter.widget-view+json": {
       "model_id": "995f2606dc9b47afb01717639e76fc97",
       "version_major": 2,
       "version_minor": 0
      },
      "text/plain": [
       "Testing long dataset.:   0%|          | 0/27 [00:00<?, ?it/s]"
      ]
     },
     "metadata": {},
     "output_type": "display_data"
    }
   ],
   "source": [
    "@torch.no_grad()\n",
    "def test():\n",
    "    testing_dataloaders = {\n",
    "        '10s': get_testing_dataloader(ALL_MODEL_DIRS[0], 16, 524288),  # 2 ** 19, close to 10 * 44100\n",
    "        # 'long': get_testing_dataloader(ALL_MODEL_DIRS[0], 1, 8388608),  # 2 * 23, used by Steinmetz and Reiss\n",
    "        'long': get_testing_dataloader(ALL_MODEL_DIRS[0], 1, 2 ** 22),  # 2 * 22, trying to match Steinmetz and Reiss\n",
    "    }\n",
    "\n",
    "    for model_dir in ALL_MODEL_DIRS:\n",
    "        torch.cuda.empty_cache()\n",
    "\n",
    "        print(f'Calculating {model_dir} model testing loss.')\n",
    "        model = get_model(model_dir).to(device)\n",
    "        losses = defaultdict(list)\n",
    "\n",
    "        for testing_dataloader_name, testing_dataloader in testing_dataloaders.items():\n",
    "            validation_criterions = forge_validation_criterions_by(\n",
    "                model.hparams['loss_filter_coef']\n",
    "            ).to(device)\n",
    "            validation_losses = {\n",
    "                validation_loss: 0.0\n",
    "                for validation_loss in validation_criterions.keys()\n",
    "            }\n",
    "\n",
    "            for x, y, parameters in tqdm(\n",
    "                testing_dataloader,\n",
    "                desc=f'Testing {testing_dataloader_name} dataset.',\n",
    "                total=len(testing_dataloader)\n",
    "            ):\n",
    "                x: Tensor = x.to(device)\n",
    "                y: Tensor = y.to(device)\n",
    "                parameters: Tensor = parameters.to(device)\n",
    "\n",
    "                y_hat: Tensor = model(x, parameters)\n",
    "\n",
    "                for validation_loss, validation_criterion in validation_criterions.items():\n",
    "                    loss: Tensor = validation_criterion(y_hat.unsqueeze(1), y.unsqueeze(1))\n",
    "                    validation_losses[validation_loss] += loss.item()\n",
    "            \n",
    "            for k, v in list(validation_losses.items()):\n",
    "                validation_losses[k] = v / len(testing_dataloader)\n",
    "            \n",
    "            losses['dataset-name'].append(testing_dataloader_name)\n",
    "            for k, v in validation_losses.items():\n",
    "                losses[k].append(v)\n",
    "        \n",
    "        pd.DataFrame(losses).to_csv(model_dir.parent.parent / f'loss.csv')\n",
    "\n",
    "test()"
   ]
  },
  {
   "cell_type": "markdown",
   "metadata": {},
   "source": [
    "## Evaluate Direct Inference Efficiency (CUDA and CPU)"
   ]
  },
  {
   "cell_type": "code",
   "execution_count": null,
   "metadata": {},
   "outputs": [
    {
     "name": "stdout",
     "output_type": "stream",
     "text": [
      "Architecture:                    x86_64\n",
      "CPU op-mode(s):                  32-bit, 64-bit\n",
      "Byte Order:                      Little Endian\n",
      "Address sizes:                   46 bits physical, 57 bits virtual\n",
      "CPU(s):                          30\n",
      "On-line CPU(s) list:             0-29\n",
      "Thread(s) per core:              1\n",
      "Core(s) per socket:              1\n",
      "Socket(s):                       30\n",
      "NUMA node(s):                    1\n",
      "Vendor ID:                       GenuineIntel\n",
      "CPU family:                      6\n",
      "Model:                           106\n",
      "Model name:                      Intel(R) Xeon(R) Platinum 8358 CPU @ 2.60GHz\n",
      "Stepping:                        6\n",
      "CPU MHz:                         2593.898\n",
      "BogoMIPS:                        5187.79\n",
      "Virtualization:                  VT-x\n",
      "Hypervisor vendor:               KVM\n",
      "Virtualization type:             full\n",
      "L1d cache:                       960 KiB\n",
      "L1i cache:                       960 KiB\n",
      "L2 cache:                        120 MiB\n",
      "L3 cache:                        480 MiB\n",
      "NUMA node0 CPU(s):               0-29\n",
      "Vulnerability Itlb multihit:     Not affected\n",
      "Vulnerability L1tf:              Not affected\n",
      "Vulnerability Mds:               Not affected\n",
      "Vulnerability Meltdown:          Not affected\n",
      "Vulnerability Mmio stale data:   Vulnerable: Clear CPU buffers attempted, no microcode; SMT Host state unknown\n",
      "Vulnerability Retbleed:          Not affected\n",
      "Vulnerability Spec store bypass: Mitigation; Speculative Store Bypass disabled via prctl and seccomp\n",
      "Vulnerability Spectre v1:        Mitigation; usercopy/swapgs barriers and __user pointer sanitization\n",
      "Vulnerability Spectre v2:        Mitigation; Enhanced IBRS, IBPB conditional, RSB filling, PBRSB-eIBRS SW sequence\n",
      "Vulnerability Srbds:             Not affected\n",
      "Vulnerability Tsx async abort:   Mitigation; TSX disabled\n",
      "Flags:                           fpu vme de pse tsc msr pae mce cx8 apic sep mtrr pge mca cmov pat pse36 clflush mmx fxsr sse sse2 ss syscall nx pdpe1gb rdtscp lm constant_tsc arch_perfmon rep_good nopl xtopology cpuid tsc_known_freq pni pclmulqdq vmx ssse3 fma cx16 pdcm pcid sse4_1 sse4_2 x2apic movbe popcnt tsc_deadline_timer aes xsave avx f16c rdrand hypervisor lahf_lm abm 3dnowprefetch cpuid_fault invpcid_single ssbd ibrs ibpb stibp ibrs_enhanced tpr_shadow vnmi flexpriority ept vpid ept_ad fsgsbase tsc_adjust bmi1 avx2 smep bmi2 erms invpcid avx512f avx512dq rdseed adx smap avx512ifma clflushopt clwb avx512cd sha_ni avx512bw avx512vl xsaveopt xsavec xgetbv1 xsaves wbnoinvd arat avx512vbmi umip pku ospke avx512_vbmi2 gfni vaes vpclmulqdq avx512_vnni avx512_bitalg avx512_vpopcntdq la57 rdpid fsrm md_clear arch_capabilities\n"
     ]
    }
   ],
   "source": [
    "%%sh\n",
    "lscpu"
   ]
  },
  {
   "cell_type": "code",
   "execution_count": null,
   "metadata": {},
   "outputs": [
    {
     "name": "stdout",
     "output_type": "stream",
     "text": [
      "Calculating experiment-result/run-01/checkpoints/epoch=41-step=61908.ckpt model inference efficiency.\n",
      "Doing inference speed test on CPU...\n",
      "Doing inference speed test on NVIDIA A10.\n",
      "Calculating experiment-result/run-02/checkpoints/epoch=46-step=69278.ckpt model inference efficiency.\n",
      "Doing inference speed test on CPU...\n",
      "Doing inference speed test on NVIDIA A10.\n",
      "Calculating experiment-result/run-03/checkpoints/epoch=58-step=86966.ckpt model inference efficiency.\n",
      "Doing inference speed test on CPU...\n",
      "Doing inference speed test on NVIDIA A10.\n",
      "Calculating experiment-result/run-04/checkpoints/epoch=50-step=75174.ckpt model inference efficiency.\n",
      "Doing inference speed test on CPU...\n",
      "Doing inference speed test on NVIDIA A10.\n",
      "Calculating experiment-result/run-05/checkpoints/epoch=13-step=20636.ckpt model inference efficiency.\n",
      "Doing inference speed test on CPU...\n",
      "Doing inference speed test on NVIDIA A10.\n",
      "Calculating experiment-result/run-06/checkpoints/epoch=53-step=79596.ckpt model inference efficiency.\n",
      "Doing inference speed test on CPU...\n",
      "Doing inference speed test on NVIDIA A10.\n",
      "Calculating experiment-result/run-07/checkpoints/epoch=49-step=73700.ckpt model inference efficiency.\n",
      "Doing inference speed test on CPU...\n",
      "Doing inference speed test on NVIDIA A10.\n",
      "Calculating experiment-result/run-08/checkpoints/epoch=55-step=82544.ckpt model inference efficiency.\n",
      "Doing inference speed test on CPU...\n",
      "Doing inference speed test on NVIDIA A10.\n"
     ]
    }
   ],
   "source": [
    "@torch.no_grad()\n",
    "def evaluate_inference_efficiency():\n",
    "    for model_dir in ALL_MODEL_DIRS:\n",
    "        print(f'Calculating {model_dir} model inference efficiency.')\n",
    "        model = get_model(model_dir)\n",
    "        sample_lengths: list[int] = [2 ** i for i in range(5, 20)]\n",
    "\n",
    "        local_devices = [torch.device('cpu')]\n",
    "        if torch.cuda.is_available():\n",
    "            local_devices.append(torch.device('cuda'))\n",
    "\n",
    "        real_time_ratio_dict = defaultdict(list)\n",
    "        for local_device in local_devices:\n",
    "            if local_device.type == 'cpu':\n",
    "                print(f'Doing inference speed test on {(device_name := local_device.type).upper()}...')\n",
    "            elif local_device.type == 'cuda':\n",
    "                print(f'Doing inference speed test on {(device_name := torch.cuda.get_device_name())}.')\n",
    "            else:\n",
    "                raise NotImplementedError(f'Inference efficiency test can only run on CPU/CUDA')\n",
    "\n",
    "            model = model.to(local_device)\n",
    "\n",
    "            real_time_ratio_dict['device-name'].append(device_name)\n",
    "            \n",
    "            speed_ratios = []\n",
    "\n",
    "            for dataset_sample_length in sample_lengths:\n",
    "                dataset_sample_time_ns = dataset_sample_length * 1e9 / SignalTrainDatasetModule.sample_rate\n",
    "\n",
    "                inference_time_ns: list[int] = []\n",
    "                for _ in range(20):\n",
    "                    x = torch.rand(1, dataset_sample_length).to(local_device, torch.float32)\n",
    "                    cond = torch.tensor([[1, 65]]).to(local_device, torch.float32)\n",
    "\n",
    "                    tic = time.perf_counter_ns()\n",
    "                    model(x, cond)\n",
    "                    toc = time.perf_counter_ns()\n",
    "                    inference_time_ns.append(toc - tic)\n",
    "                \n",
    "                inference_time_ns_mean = mean(inference_time_ns)\n",
    "                real_time_ratio = dataset_sample_time_ns / inference_time_ns_mean\n",
    "                speed_ratios.append(real_time_ratio)\n",
    "                real_time_ratio_dict[str(dataset_sample_length)].append(real_time_ratio)\n",
    "        \n",
    "        pd.DataFrame(real_time_ratio_dict).to_csv(model_dir.parent.parent / 'efficiency.csv')\n",
    "\n",
    "\n",
    "evaluate_inference_efficiency()"
   ]
  },
  {
   "attachments": {},
   "cell_type": "markdown",
   "metadata": {},
   "source": [
    "## Generate Output Audio (CUDA)"
   ]
  },
  {
   "cell_type": "code",
   "execution_count": 4,
   "metadata": {},
   "outputs": [
    {
     "name": "stdout",
     "output_type": "stream",
     "text": [
      "The SignalTrain dataset has been downloaded. Skipping ... \n"
     ]
    },
    {
     "data": {
      "application/vnd.jupyter.widget-view+json": {
       "model_id": "8bda3ae6f1a3443e9d58f2aaf1b792fb",
       "version_major": 2,
       "version_minor": 0
      },
      "text/plain": [
       "Loading dataset from data/SignalTrain/Test.:   0%|          | 0/6 [00:00<?, ?it/s]"
      ]
     },
     "metadata": {},
     "output_type": "display_data"
    },
    {
     "name": "stdout",
     "output_type": "stream",
     "text": [
      "Generating experiment-result/run-01/checkpoints/epoch=41-step=61908.ckpt model output audio.\n"
     ]
    },
    {
     "data": {
      "application/vnd.jupyter.widget-view+json": {
       "model_id": "3ec408ba53844b52a2cec97510da30d7",
       "version_major": 2,
       "version_minor": 0
      },
      "text/plain": [
       "Generating output audio:   0%|          | 0/17 [00:00<?, ?it/s]"
      ]
     },
     "metadata": {},
     "output_type": "display_data"
    },
    {
     "name": "stdout",
     "output_type": "stream",
     "text": [
      "Generating experiment-result/run-02/checkpoints/epoch=46-step=69278.ckpt model output audio.\n"
     ]
    },
    {
     "data": {
      "application/vnd.jupyter.widget-view+json": {
       "model_id": "8b1861e04bfd46b6bdd0bc28d65168e9",
       "version_major": 2,
       "version_minor": 0
      },
      "text/plain": [
       "Generating output audio:   0%|          | 0/17 [00:00<?, ?it/s]"
      ]
     },
     "metadata": {},
     "output_type": "display_data"
    },
    {
     "name": "stdout",
     "output_type": "stream",
     "text": [
      "Generating experiment-result/run-03/checkpoints/epoch=58-step=86966.ckpt model output audio.\n"
     ]
    },
    {
     "data": {
      "application/vnd.jupyter.widget-view+json": {
       "model_id": "207993c077b4478ca6dabffc0b085ff6",
       "version_major": 2,
       "version_minor": 0
      },
      "text/plain": [
       "Generating output audio:   0%|          | 0/17 [00:00<?, ?it/s]"
      ]
     },
     "metadata": {},
     "output_type": "display_data"
    },
    {
     "name": "stdout",
     "output_type": "stream",
     "text": [
      "Generating experiment-result/run-04/checkpoints/epoch=50-step=75174.ckpt model output audio.\n"
     ]
    },
    {
     "data": {
      "application/vnd.jupyter.widget-view+json": {
       "model_id": "eb78040bb7284d2aa64e3771685f82ad",
       "version_major": 2,
       "version_minor": 0
      },
      "text/plain": [
       "Generating output audio:   0%|          | 0/17 [00:00<?, ?it/s]"
      ]
     },
     "metadata": {},
     "output_type": "display_data"
    },
    {
     "name": "stdout",
     "output_type": "stream",
     "text": [
      "Generating experiment-result/run-05/checkpoints/epoch=13-step=20636.ckpt model output audio.\n"
     ]
    },
    {
     "data": {
      "application/vnd.jupyter.widget-view+json": {
       "model_id": "cd0c6311061a497ba393cb9e7478aeb0",
       "version_major": 2,
       "version_minor": 0
      },
      "text/plain": [
       "Generating output audio:   0%|          | 0/17 [00:00<?, ?it/s]"
      ]
     },
     "metadata": {},
     "output_type": "display_data"
    },
    {
     "name": "stdout",
     "output_type": "stream",
     "text": [
      "Generating experiment-result/run-06/checkpoints/epoch=53-step=79596.ckpt model output audio.\n"
     ]
    },
    {
     "data": {
      "application/vnd.jupyter.widget-view+json": {
       "model_id": "a7d4a677f5164752bf67551939e7bd38",
       "version_major": 2,
       "version_minor": 0
      },
      "text/plain": [
       "Generating output audio:   0%|          | 0/17 [00:00<?, ?it/s]"
      ]
     },
     "metadata": {},
     "output_type": "display_data"
    },
    {
     "name": "stdout",
     "output_type": "stream",
     "text": [
      "Generating experiment-result/run-07/checkpoints/epoch=49-step=73700.ckpt model output audio.\n"
     ]
    },
    {
     "data": {
      "application/vnd.jupyter.widget-view+json": {
       "model_id": "1024221923424fdcad7dc7d36042eb1f",
       "version_major": 2,
       "version_minor": 0
      },
      "text/plain": [
       "Generating output audio:   0%|          | 0/17 [00:00<?, ?it/s]"
      ]
     },
     "metadata": {},
     "output_type": "display_data"
    },
    {
     "name": "stdout",
     "output_type": "stream",
     "text": [
      "Generating experiment-result/run-08/checkpoints/epoch=55-step=82544.ckpt model output audio.\n"
     ]
    },
    {
     "data": {
      "application/vnd.jupyter.widget-view+json": {
       "model_id": "87968fdf1e6e4fc8af50a249881878bf",
       "version_major": 2,
       "version_minor": 0
      },
      "text/plain": [
       "Generating output audio:   0%|          | 0/17 [00:00<?, ?it/s]"
      ]
     },
     "metadata": {},
     "output_type": "display_data"
    }
   ],
   "source": [
    "@torch.no_grad()\n",
    "def evaluate_output_audio():\n",
    "    testing_dataloader = get_testing_dataloader(ALL_MODEL_DIRS[0], 16, 10 * SignalTrainDatasetModule.sample_rate)\n",
    "\n",
    "    for model_dir in ALL_MODEL_DIRS:\n",
    "        print(f'Generating {model_dir} model output audio.')\n",
    "        model = get_model(model_dir).to(device)\n",
    "\n",
    "        output_audio_dir = model_dir.parent.parent / f'output-audio-10s'\n",
    "        output_audio_dir.mkdir(exist_ok=True)\n",
    "\n",
    "        ii = 0\n",
    "        for x, y, cond in tqdm(testing_dataloader, desc='Generating output audio', total=len(testing_dataloader)):\n",
    "            x: Tensor = x.to(device)\n",
    "            y: Tensor = y.to(device)\n",
    "            cond: Tensor = cond.to(device)\n",
    "            \n",
    "            y_hat: Tensor = model(y, cond)\n",
    "            \n",
    "            for i in range(y_hat.size(0)):\n",
    "                switch, peak_reduction = cond[i, :].flatten().cpu().tolist()\n",
    "                prefix = f'{str(ii).zfill(3)}-switch={switch}-peak-reduction={peak_reduction}'\n",
    "\n",
    "                x_audio = x[i, :].flatten().cpu().numpy()\n",
    "                y_audio = y[i, :].flatten().cpu().numpy()\n",
    "                y_hat_audio = y_hat[i, :].flatten().cpu().numpy()\n",
    "                y_diff_audio = y_audio - y_hat_audio\n",
    "\n",
    "                wavfile.write(output_audio_dir / f'{prefix}-x.wav', SignalTrainDatasetModule.sample_rate, x_audio)\n",
    "                wavfile.write(output_audio_dir / f'{prefix}-y.wav', SignalTrainDatasetModule.sample_rate, y_audio)\n",
    "                wavfile.write(output_audio_dir / f'{prefix}-y-hat.wav', SignalTrainDatasetModule.sample_rate, y_hat_audio)\n",
    "                wavfile.write(output_audio_dir / f'{prefix}-y-diff.wav', SignalTrainDatasetModule.sample_rate, y_diff_audio)\n",
    "\n",
    "                ii += 1\n",
    "\n",
    "evaluate_output_audio()"
   ]
  },
  {
   "cell_type": "code",
   "execution_count": null,
   "metadata": {},
   "outputs": [],
   "source": []
  }
 ],
 "metadata": {
  "kernelspec": {
   "display_name": "s4-dynamic-range-compressor-WjUGfTKg",
   "language": "python",
   "name": "python3"
  },
  "language_info": {
   "codemirror_mode": {
    "name": "ipython",
    "version": 3
   },
   "file_extension": ".py",
   "mimetype": "text/x-python",
   "name": "python",
   "nbconvert_exporter": "python",
   "pygments_lexer": "ipython3",
   "version": "3.10.12"
  },
  "orig_nbformat": 4
 },
 "nbformat": 4,
 "nbformat_minor": 2
}
