{
 "cells": [
  {
   "cell_type": "code",
   "execution_count": 9,
   "metadata": {},
   "outputs": [],
   "source": [
    "from collections import defaultdict\n",
    "from pathlib import Path\n",
    "\n",
    "import torchaudio\n",
    "\n",
    "from src.dataset import param_dict"
   ]
  },
  {
   "cell_type": "code",
   "execution_count": 5,
   "metadata": {},
   "outputs": [
    {
     "name": "stdout",
     "output_type": "stream",
     "text": [
      "total_training_data = 70139.22149659865\n"
     ]
    }
   ],
   "source": [
    "total_training_data = 0.0\n",
    "for f in Path('./data/SignalTrain/Train').iterdir():\n",
    "    if f.name.startswith('input') and f.suffix == '.wav':\n",
    "        total_training_data += torchaudio.info(f).num_frames / 44_100\n",
    "print(f'{total_training_data = }')"
   ]
  },
  {
   "cell_type": "code",
   "execution_count": 6,
   "metadata": {},
   "outputs": [
    {
     "name": "stdout",
     "output_type": "stream",
     "text": [
      "total_validation_data = 14699.80537414966\n"
     ]
    }
   ],
   "source": [
    "total_validation_data = 0.0\n",
    "for f in Path('./data/SignalTrain/Val').iterdir():\n",
    "    if f.name.startswith('input') and f.suffix == '.wav':\n",
    "        total_validation_data += torchaudio.info(f).num_frames / 44_100\n",
    "print(f'{total_validation_data = }')"
   ]
  },
  {
   "cell_type": "code",
   "execution_count": 7,
   "metadata": {},
   "outputs": [
    {
     "name": "stdout",
     "output_type": "stream",
     "text": [
      "total_testing_data = 2700.0\n"
     ]
    }
   ],
   "source": [
    "total_testing_data = 0.0\n",
    "for f in Path('./data/SignalTrain/Test').iterdir():\n",
    "    if f.name.startswith('input') and f.suffix == '.wav':\n",
    "        total_testing_data += torchaudio.info(f).num_frames / 44_100\n",
    "print(f'{total_testing_data = }')"
   ]
  },
  {
   "cell_type": "code",
   "execution_count": null,
   "metadata": {},
   "outputs": [],
   "source": [
    "dist_dict = defaultdict(set)\n",
    "for param, partitions in param_dict.items():\n",
    "    for partition in partitions:\n",
    "        dist_dict[param].add(partition[0])\n",
    "dist_dict"
   ]
  },
  {
   "cell_type": "code",
   "execution_count": null,
   "metadata": {},
   "outputs": [],
   "source": [
    "for param, splits in dist_dict.items():\n",
    "    d = [*param, splits]\n",
    "    print(' & '.join(map(str, d)) + ' \\\\\\\\')"
   ]
  },
  {
   "cell_type": "code",
   "execution_count": 19,
   "metadata": {},
   "outputs": [
    {
     "name": "stdout",
     "output_type": "stream",
     "text": [
      "(0, 0): total_num_frames = 2100.0\n",
      "(0, 5): total_num_frames = 2100.0\n",
      "(0, 10): total_num_frames = 2100.0\n",
      "(0, 15): total_num_frames = 2100.0\n",
      "(0, 20): total_num_frames = 2100.0\n",
      "(0, 25): total_num_frames = 2100.0\n",
      "(0, 30): total_num_frames = 2100.0\n",
      "(0, 35): total_num_frames = 2100.0\n",
      "(0, 40): total_num_frames = 2100.0\n",
      "(0, 45): total_num_frames = 2099.8053741496597\n",
      "(0, 50): total_num_frames = 2099.8053741496597\n",
      "(0, 55): total_num_frames = 2099.8053741496597\n",
      "(0, 60): total_num_frames = 2099.8053741496597\n",
      "(0, 65): total_num_frames = 2100.0\n",
      "(0, 70): total_num_frames = 1199.8053741496599\n",
      "(0, 75): total_num_frames = 2100.0\n",
      "(0, 80): total_num_frames = 2100.0\n",
      "(0, 85): total_num_frames = 2100.0\n",
      "(0, 90): total_num_frames = 2100.0\n",
      "(0, 95): total_num_frames = 2100.0\n",
      "(0, 100): total_num_frames = 2100.0\n",
      "(1, 0): total_num_frames = 2100.0\n",
      "(1, 5): total_num_frames = 2100.0\n",
      "(1, 10): total_num_frames = 2100.0\n",
      "(1, 15): total_num_frames = 2100.0\n",
      "(1, 20): total_num_frames = 2100.0\n",
      "(1, 25): total_num_frames = 2100.0\n",
      "(1, 30): total_num_frames = 2100.0\n",
      "(1, 35): total_num_frames = 2100.0\n",
      "(1, 40): total_num_frames = 2100.0\n",
      "(1, 45): total_num_frames = 2100.0\n",
      "(1, 50): total_num_frames = 2100.0\n",
      "(1, 55): total_num_frames = 2100.0\n",
      "(1, 60): total_num_frames = 2100.0\n",
      "(1, 65): total_num_frames = 2100.0\n",
      "(1, 70): total_num_frames = 2100.0\n",
      "(1, 75): total_num_frames = 2100.0\n",
      "(1, 80): total_num_frames = 2100.0\n",
      "(1, 85): total_num_frames = 2100.0\n",
      "(1, 90): total_num_frames = 2100.0\n",
      "(1, 95): total_num_frames = 2100.0\n",
      "(1, 100): total_num_frames = 2340.0\n"
     ]
    }
   ],
   "source": [
    "dataset_dir = Path('./data/SignalTrain/')\n",
    "for param, files in param_dict.items():\n",
    "    total_num_frames = 0\n",
    "    for d, f, _ in files:\n",
    "        total_num_frames += torchaudio.info(dataset_dir / d / f).num_frames / 44100\n",
    "    print(f'{param}: {total_num_frames = }')"
   ]
  },
  {
   "cell_type": "code",
   "execution_count": null,
   "metadata": {},
   "outputs": [],
   "source": []
  }
 ],
 "metadata": {
  "kernelspec": {
   "display_name": "s4-dynamic-range-compressor-WjUGfTKg",
   "language": "python",
   "name": "python3"
  },
  "language_info": {
   "codemirror_mode": {
    "name": "ipython",
    "version": 3
   },
   "file_extension": ".py",
   "mimetype": "text/x-python",
   "name": "python",
   "nbconvert_exporter": "python",
   "pygments_lexer": "ipython3",
   "version": "3.10.12"
  },
  "orig_nbformat": 4
 },
 "nbformat": 4,
 "nbformat_minor": 2
}
