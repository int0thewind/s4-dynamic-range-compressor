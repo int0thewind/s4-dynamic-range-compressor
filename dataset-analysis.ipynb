{
 "cells": [
  {
   "cell_type": "code",
   "execution_count": 1,
   "metadata": {},
   "outputs": [
    {
     "name": "stderr",
     "output_type": "stream",
     "text": [
      "/Users/int0thewind/.local/share/virtualenvs/s4-dynamic-range-compressor-WjUGfTKg/lib/python3.10/site-packages/tqdm/auto.py:21: TqdmWarning: IProgress not found. Please update jupyter and ipywidgets. See https://ipywidgets.readthedocs.io/en/stable/user_install.html\n",
      "  from .autonotebook import tqdm as notebook_tqdm\n"
     ]
    }
   ],
   "source": [
    "from collections import defaultdict\n",
    "from pathlib import Path\n",
    "\n",
    "import torchaudio\n",
    "import pandas as pd\n",
    "\n",
    "from s4drc.src.dataset import param_dict"
   ]
  },
  {
   "cell_type": "code",
   "execution_count": 5,
   "metadata": {},
   "outputs": [
    {
     "name": "stdout",
     "output_type": "stream",
     "text": [
      "total_training_data = 70139.22149659865\n"
     ]
    }
   ],
   "source": [
    "total_training_data = 0.0\n",
    "for f in Path('./data/SignalTrain/Train').iterdir():\n",
    "    if f.name.startswith('input') and f.suffix == '.wav':\n",
    "        total_training_data += torchaudio.info(f).num_frames / 44_100\n",
    "print(f'{total_training_data = }')"
   ]
  },
  {
   "cell_type": "code",
   "execution_count": 6,
   "metadata": {},
   "outputs": [
    {
     "name": "stdout",
     "output_type": "stream",
     "text": [
      "total_validation_data = 14699.80537414966\n"
     ]
    }
   ],
   "source": [
    "total_validation_data = 0.0\n",
    "for f in Path('./data/SignalTrain/Val').iterdir():\n",
    "    if f.name.startswith('input') and f.suffix == '.wav':\n",
    "        total_validation_data += torchaudio.info(f).num_frames / 44_100\n",
    "print(f'{total_validation_data = }')"
   ]
  },
  {
   "cell_type": "code",
   "execution_count": 7,
   "metadata": {},
   "outputs": [
    {
     "name": "stdout",
     "output_type": "stream",
     "text": [
      "total_testing_data = 2700.0\n"
     ]
    }
   ],
   "source": [
    "total_testing_data = 0.0\n",
    "for f in Path('./data/SignalTrain/Test').iterdir():\n",
    "    if f.name.startswith('input') and f.suffix == '.wav':\n",
    "        total_testing_data += torchaudio.info(f).num_frames / 44_100\n",
    "print(f'{total_testing_data = }')"
   ]
  },
  {
   "cell_type": "code",
   "execution_count": null,
   "metadata": {},
   "outputs": [],
   "source": [
    "dist_dict = defaultdict(set)\n",
    "for param, partitions in param_dict.items():\n",
    "    for partition in partitions:\n",
    "        dist_dict[param].add(partition[0])\n",
    "dist_dict"
   ]
  },
  {
   "cell_type": "code",
   "execution_count": null,
   "metadata": {},
   "outputs": [],
   "source": [
    "for param, splits in dist_dict.items():\n",
    "    d = [*param, splits]\n",
    "    print(' & '.join(map(str, d)) + ' \\\\\\\\')"
   ]
  },
  {
   "cell_type": "code",
   "execution_count": 19,
   "metadata": {},
   "outputs": [
    {
     "name": "stdout",
     "output_type": "stream",
     "text": [
      "(0, 0): total_num_frames = 2100.0\n",
      "(0, 5): total_num_frames = 2100.0\n",
      "(0, 10): total_num_frames = 2100.0\n",
      "(0, 15): total_num_frames = 2100.0\n",
      "(0, 20): total_num_frames = 2100.0\n",
      "(0, 25): total_num_frames = 2100.0\n",
      "(0, 30): total_num_frames = 2100.0\n",
      "(0, 35): total_num_frames = 2100.0\n",
      "(0, 40): total_num_frames = 2100.0\n",
      "(0, 45): total_num_frames = 2099.8053741496597\n",
      "(0, 50): total_num_frames = 2099.8053741496597\n",
      "(0, 55): total_num_frames = 2099.8053741496597\n",
      "(0, 60): total_num_frames = 2099.8053741496597\n",
      "(0, 65): total_num_frames = 2100.0\n",
      "(0, 70): total_num_frames = 1199.8053741496599\n",
      "(0, 75): total_num_frames = 2100.0\n",
      "(0, 80): total_num_frames = 2100.0\n",
      "(0, 85): total_num_frames = 2100.0\n",
      "(0, 90): total_num_frames = 2100.0\n",
      "(0, 95): total_num_frames = 2100.0\n",
      "(0, 100): total_num_frames = 2100.0\n",
      "(1, 0): total_num_frames = 2100.0\n",
      "(1, 5): total_num_frames = 2100.0\n",
      "(1, 10): total_num_frames = 2100.0\n",
      "(1, 15): total_num_frames = 2100.0\n",
      "(1, 20): total_num_frames = 2100.0\n",
      "(1, 25): total_num_frames = 2100.0\n",
      "(1, 30): total_num_frames = 2100.0\n",
      "(1, 35): total_num_frames = 2100.0\n",
      "(1, 40): total_num_frames = 2100.0\n",
      "(1, 45): total_num_frames = 2100.0\n",
      "(1, 50): total_num_frames = 2100.0\n",
      "(1, 55): total_num_frames = 2100.0\n",
      "(1, 60): total_num_frames = 2100.0\n",
      "(1, 65): total_num_frames = 2100.0\n",
      "(1, 70): total_num_frames = 2100.0\n",
      "(1, 75): total_num_frames = 2100.0\n",
      "(1, 80): total_num_frames = 2100.0\n",
      "(1, 85): total_num_frames = 2100.0\n",
      "(1, 90): total_num_frames = 2100.0\n",
      "(1, 95): total_num_frames = 2100.0\n",
      "(1, 100): total_num_frames = 2340.0\n"
     ]
    }
   ],
   "source": [
    "dataset_dir = Path('./data/SignalTrain/')\n",
    "for param, files in param_dict.items():\n",
    "    total_num_frames = 0\n",
    "    for d, f, _ in files:\n",
    "        total_num_frames += torchaudio.info(dataset_dir / d / f).num_frames / 44100\n",
    "    print(f'{param}: {total_num_frames = }')"
   ]
  },
  {
   "cell_type": "code",
   "execution_count": 4,
   "metadata": {},
   "outputs": [],
   "source": [
    "dic = defaultdict(list)\n",
    "\n",
    "for k, vs in param_dict.items():\n",
    "    switch_value, peak_reduction_value = k\n",
    "    for split, input_file_name, target_file_name in vs:\n",
    "        dic['filename'].append(input_file_name)\n",
    "        dic['type'].append('input')\n",
    "        dic['split'].append(split)\n",
    "        dic['switch-value'].append(switch_value)\n",
    "        dic['peak-reduction-value'].append(peak_reduction_value)\n",
    "\n",
    "        dic['filename'].append(target_file_name)\n",
    "        dic['type'].append('target')\n",
    "        dic['split'].append(split)\n",
    "        dic['switch-value'].append(switch_value)\n",
    "        dic['peak-reduction-value'].append(peak_reduction_value)"
   ]
  },
  {
   "cell_type": "code",
   "execution_count": 9,
   "metadata": {},
   "outputs": [
    {
     "data": {
      "text/html": [
       "<div>\n",
       "<style scoped>\n",
       "    .dataframe tbody tr th:only-of-type {\n",
       "        vertical-align: middle;\n",
       "    }\n",
       "\n",
       "    .dataframe tbody tr th {\n",
       "        vertical-align: top;\n",
       "    }\n",
       "\n",
       "    .dataframe thead th {\n",
       "        text-align: right;\n",
       "    }\n",
       "</style>\n",
       "<table border=\"1\" class=\"dataframe\">\n",
       "  <thead>\n",
       "    <tr style=\"text-align: right;\">\n",
       "      <th></th>\n",
       "      <th>filename</th>\n",
       "      <th>type</th>\n",
       "      <th>split</th>\n",
       "      <th>switch-value</th>\n",
       "      <th>peak-reduction-value</th>\n",
       "    </tr>\n",
       "  </thead>\n",
       "  <tbody>\n",
       "    <tr>\n",
       "      <th>0</th>\n",
       "      <td>input_138_.wav</td>\n",
       "      <td>input</td>\n",
       "      <td>Train</td>\n",
       "      <td>0</td>\n",
       "      <td>0</td>\n",
       "    </tr>\n",
       "    <tr>\n",
       "      <th>1</th>\n",
       "      <td>target_138_LA2A_3c__0__0.wav</td>\n",
       "      <td>target</td>\n",
       "      <td>Train</td>\n",
       "      <td>0</td>\n",
       "      <td>0</td>\n",
       "    </tr>\n",
       "    <tr>\n",
       "      <th>2</th>\n",
       "      <td>input_222_.wav</td>\n",
       "      <td>input</td>\n",
       "      <td>Train</td>\n",
       "      <td>0</td>\n",
       "      <td>0</td>\n",
       "    </tr>\n",
       "    <tr>\n",
       "      <th>3</th>\n",
       "      <td>target_222_LA2A_2c__0__0.wav</td>\n",
       "      <td>target</td>\n",
       "      <td>Train</td>\n",
       "      <td>0</td>\n",
       "      <td>0</td>\n",
       "    </tr>\n",
       "    <tr>\n",
       "      <th>4</th>\n",
       "      <td>input_139_.wav</td>\n",
       "      <td>input</td>\n",
       "      <td>Train</td>\n",
       "      <td>0</td>\n",
       "      <td>5</td>\n",
       "    </tr>\n",
       "  </tbody>\n",
       "</table>\n",
       "</div>"
      ],
      "text/plain": [
       "                       filename    type  split  switch-value  \\\n",
       "0                input_138_.wav   input  Train             0   \n",
       "1  target_138_LA2A_3c__0__0.wav  target  Train             0   \n",
       "2                input_222_.wav   input  Train             0   \n",
       "3  target_222_LA2A_2c__0__0.wav  target  Train             0   \n",
       "4                input_139_.wav   input  Train             0   \n",
       "\n",
       "   peak-reduction-value  \n",
       "0                     0  \n",
       "1                     0  \n",
       "2                     0  \n",
       "3                     0  \n",
       "4                     5  "
      ]
     },
     "execution_count": 9,
     "metadata": {},
     "output_type": "execute_result"
    }
   ],
   "source": [
    "df = pd.DataFrame.from_dict(dic)\n",
    "df.head()"
   ]
  },
  {
   "cell_type": "code",
   "execution_count": 8,
   "metadata": {},
   "outputs": [],
   "source": [
    "df.to_csv('metadata.csv')"
   ]
  },
  {
   "cell_type": "code",
   "execution_count": null,
   "metadata": {},
   "outputs": [],
   "source": []
  }
 ],
 "metadata": {
  "kernelspec": {
   "display_name": "s4-dynamic-range-compressor-WjUGfTKg",
   "language": "python",
   "name": "python3"
  },
  "language_info": {
   "codemirror_mode": {
    "name": "ipython",
    "version": 3
   },
   "file_extension": ".py",
   "mimetype": "text/x-python",
   "name": "python",
   "nbconvert_exporter": "python",
   "pygments_lexer": "ipython3",
   "version": "3.10.12"
  },
  "orig_nbformat": 4
 },
 "nbformat": 4,
 "nbformat_minor": 2
}
