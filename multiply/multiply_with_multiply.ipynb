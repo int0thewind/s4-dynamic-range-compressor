{
 "cells": [
  {
   "attachments": {},
   "cell_type": "markdown",
   "metadata": {},
   "source": [
    "# Learning Multiplication, Incorporate True Multiplication in a Layer \n",
    "Architecture:\n",
    " - linear layer\n",
    " - relu to hidden layer of size N\n",
    " - take M hidden units and multiply them, other hidden units pass through to new layer of size N - M\n",
    " - lineary layer\n",
    " - no final ReLu"
   ]
  },
  {
   "cell_type": "code",
   "execution_count": 1,
   "metadata": {},
   "outputs": [],
   "source": [
    "import sys\n",
    "from typing import Literal\n",
    "\n",
    "import numpy as np\n",
    "import torch\n",
    "from torch import nn, Tensor\n",
    "from torch.backends.mps import is_available as mps_is_available\n",
    "from torch.cuda import is_available as cuda_is_available\n",
    "from torchinfo import summary\n",
    "from tqdm.notebook import tqdm"
   ]
  },
  {
   "cell_type": "code",
   "execution_count": 2,
   "metadata": {},
   "outputs": [
    {
     "name": "stdout",
     "output_type": "stream",
     "text": [
      "Python version: 3.10.11 (main, Apr  7 2023, 07:24:53) [Clang 14.0.0 (clang-1400.0.29.202)]\n",
      "PyTorch version: 2.0.0\n",
      "Currently, using mps device.\n"
     ]
    }
   ],
   "source": [
    "if not sys.version_info >= (3, 10):\n",
    "    raise RuntimeError(\"This notebook requires Python 3.10 or later.\")\n",
    "print(f'Python version: {sys.version}')\n",
    "\n",
    "print(f'PyTorch version: {torch.__version__}')\n",
    "device = 'cuda' if cuda_is_available() else 'mps' if mps_is_available() else 'cpu'\n",
    "print(f'Currently, using {device} device.')"
   ]
  },
  {
   "cell_type": "code",
   "execution_count": null,
   "metadata": {},
   "outputs": [],
   "source": [
    "batchsize = 10000"
   ]
  },
  {
   "cell_type": "code",
   "execution_count": 23,
   "metadata": {},
   "outputs": [],
   "source": [
    "class Feedforward(torch.nn.Module):\n",
    "    def __init__(self, input_size: int, hidden_size: int):\n",
    "        super(Feedforward, self).__init__()\n",
    "        self.input_size = input_size\n",
    "        self.hidden_size  = hidden_size\n",
    "        self.fc1 = nn.Linear(self.input_size, self.hidden_size)\n",
    "        self.relu1 = nn.ReLU()\n",
    "        self.fc2a = nn.Linear(self.input_size, 5)\n",
    "        self.fc2b = nn.Linear(self.input_size, 5)\n",
    "        self.relu2a = nn.ReLU()\n",
    "        self.relu2b = nn.ReLU()\n",
    "        self.fc3 = nn.Linear(self.hidden_size + 5, 1)\n",
    "        #self.tanh = torch.nn.Tanh()\n",
    "        \n",
    "    def forward(self, x):\n",
    "        fc1_out = self.fc1(x)\n",
    "        hidden1 = self.relu1(fc1_out)\n",
    "        fc2a_out = self.fc2a(x)\n",
    "        hidden2a = self.relu2a(fc2a_out)\n",
    "        fc2b_out = self.fc2b(x)\n",
    "        hidden2b = self.relu2b(fc2b_out)\n",
    "        output = self.fc3(torch.cat([hidden1, hidden2a * hidden2b], dim = 1))\n",
    "        return output"
   ]
  },
  {
   "cell_type": "code",
   "execution_count": 3,
   "metadata": {},
   "outputs": [],
   "source": [
    "# Create training and test data\n",
    "\n",
    "# for x_train/x_test we need (n, 2) of random -1 to 1\n",
    "# and output y_train/y_test we need the product\n",
    "x_train = torch.from_numpy(np.random.uniform(low=-1.0, high=1.0, size=(batchsize, 2)))\n",
    "y_train = x_train[:, 0] * x_train[:, 1]\n",
    "\n",
    "# print(x_train, y_train)\n",
    "x_test = torch.from_numpy(np.random.uniform(low=-1.0, high=1.0, size=(batchsize, 2)))\n",
    "y_test = x_test[:, 0] * x_test[:, 1]\n",
    "\n",
    "print(\"x_train size\", x_train.size())"
   ]
  },
  {
   "cell_type": "code",
   "execution_count": 34,
   "metadata": {},
   "outputs": [
    {
     "name": "stdout",
     "output_type": "stream",
     "text": [
      "x_train size torch.Size([10000, 2])\n"
     ]
    },
    {
     "data": {
      "text/plain": [
       "==========================================================================================\n",
       "Layer (type:depth-idx)                   Output Shape              Param #\n",
       "==========================================================================================\n",
       "Feedforward                              [10000, 1]                --\n",
       "├─Linear: 1-1                            [10000, 100]              300\n",
       "├─ReLU: 1-2                              [10000, 100]              --\n",
       "├─Linear: 1-3                            [10000, 5]                15\n",
       "├─ReLU: 1-4                              [10000, 5]                --\n",
       "├─Linear: 1-5                            [10000, 5]                15\n",
       "├─ReLU: 1-6                              [10000, 5]                --\n",
       "├─Linear: 1-7                            [10000, 1]                106\n",
       "==========================================================================================\n",
       "Total params: 436\n",
       "Trainable params: 436\n",
       "Non-trainable params: 0\n",
       "Total mult-adds (Units.MEGABYTES): 4.36\n",
       "==========================================================================================\n",
       "Input size (MB): 0.08\n",
       "Forward/backward pass size (MB): 8.88\n",
       "Params size (MB): 0.00\n",
       "Estimated Total Size (MB): 8.96\n",
       "=========================================================================================="
      ]
     },
     "execution_count": 34,
     "metadata": {},
     "output_type": "execute_result"
    }
   ],
   "source": [
    "model = Feedforward(2, 100)\n",
    "summary(model, input_size=x_train.size())"
   ]
  },
  {
   "cell_type": "code",
   "execution_count": 33,
   "metadata": {},
   "outputs": [
    {
     "name": "stdout",
     "output_type": "stream",
     "text": [
      "Epoch 1: train loss: 0.10948698222637177\n",
      "Epoch 1000: train loss: 0.00045749463606625795\n",
      "Epoch 2000: train loss: 7.938526687212288e-05\n",
      "Epoch 3000: train loss: 2.3687311113462783e-05\n",
      "Epoch 4000: train loss: 5.617737770080566e-06\n",
      "Epoch 5000: train loss: 8.270103535323869e-07\n",
      "Epoch 6000: train loss: 8.570611242930681e-08\n",
      "Epoch 7000: train loss: 1.4497635980603718e-08\n",
      "Epoch 8000: train loss: 1.153973805401165e-08\n",
      "Epoch 9000: train loss: 1.2379606229018236e-09\n",
      "Epoch 10000: train loss: 5.142147818659737e-10\n",
      "Epoch 11000: train loss: 3.6724616681027555e-09\n",
      "Epoch 12000: train loss: 1.524626203064372e-09\n",
      "Epoch 13000: train loss: 1.9868307887804804e-08\n",
      "Epoch 14000: train loss: 7.867031399655389e-07\n",
      "Epoch 15000: train loss: 1.0021226160006336e-07\n",
      "Epoch 16000: train loss: 7.827910541990946e-11\n",
      "Epoch 17000: train loss: 4.5208636834104254e-08\n",
      "Epoch 18000: train loss: 1.6265540807580692e-06\n",
      "Epoch 19000: train loss: 9.136630896300346e-10\n",
      "Epoch 20000: train loss: 8.960708564043074e-11\n",
      "Epoch 21000: train loss: 5.09494135769728e-09\n",
      "Epoch 22000: train loss: 7.502725107855213e-10\n",
      "Epoch 23000: train loss: 3.1854935356179226e-11\n",
      "Epoch 24000: train loss: 3.868710560239741e-11\n",
      "Epoch 25000: train loss: 6.046941836146402e-10\n",
      "Epoch 26000: train loss: 3.7057592550127083e-09\n",
      "Epoch 27000: train loss: 2.6079868575834553e-07\n",
      "Epoch 28000: train loss: 1.2516450986765904e-08\n",
      "Epoch 29000: train loss: 5.695738103383974e-09\n",
      "Epoch 30000: train loss: 4.284486543326693e-09\n",
      "Test loss after Training 2.3166148999109737e-09\n",
      "In dB: -86.35146154705461\n"
     ]
    }
   ],
   "source": [
    "model = Feedforward(2, 1)\n",
    "summary(model, input_size=(10000, 2))\n",
    "model.to(device)\n",
    "# input is (batchsize, 2)\n",
    "# output dimension is (batchsize, 1)\n",
    "criterion = torch.nn.MSELoss()\n",
    "optimizer = torch.optim.Adam(model.parameters(), lr = 0.002)\n",
    "\n",
    "\n",
    "# Train the model\n",
    "model.train()\n",
    "epoch = 30000\n",
    "x_train = x_train.to(device)\n",
    "y_train = y_train.to(device)\n",
    "for epoch in range(1, epoch + 1):\n",
    "    optimizer.zero_grad()\n",
    "    # Forward pass\n",
    "    y_pred = model(x_train)\n",
    "    y_pred.to(device)\n",
    "    # Compute Loss\n",
    "    loss = criterion(y_pred.squeeze(), y_train)\n",
    "   \n",
    "    if epoch % 1000 == 0 or epoch == 1:\n",
    "        print('Epoch {}: train loss: {}'.format(epoch, loss.item()))    # Backward pass\n",
    "    loss.backward()\n",
    "    optimizer.step()\n",
    "\n",
    "\n",
    "# Evaluate\n",
    "model.eval()\n",
    "x_test = x_test.to(device)\n",
    "y_test = y_test.to(device)\n",
    "y_pred = model(x_test)\n",
    "after_train = criterion(y_pred.squeeze(), y_test) \n",
    "print('Test loss after Training' , after_train.item())\n",
    "\n",
    "\n",
    "# What is S/N ratio in dB corresponding to MSE loss?\n",
    "actual_error = np.sqrt(after_train.item())\n",
    "print(\"In dB:\", 20 * np.log10(actual_error))"
   ]
  },
  {
   "attachments": {},
   "cell_type": "markdown",
   "metadata": {},
   "source": [
    "```\n",
    "layers hidden   time   batchsize   dB\n",
    "1        10       7s       10000  -15\n",
    "2        10      10s       10000  -42\n",
    "1       100       7s       10000  -54\n",
    "2       100      15s       10000  -52\n",
    "1       100    1m02s      100000  -55\n",
    "1      1000      35s       10000  -65\n",
    "1      1000    6m14s      100000  -64 \n",
    "2      1000    3m50s       10000  -59\n",
    "1      2000    1m06s       10000  -66\n",
    "1      2000               100000  \n",
    "2      2000   13m12s       10000  -63\n",
    "1      4000    2m04s       10000  -63\n",
    "1      4000   22m13s      100000   17 (!)\n",
    "With multiplies...\n",
    "1       1+5    1m23s       10000  -86\n",
    "```"
   ]
  }
 ],
 "metadata": {
  "kernelspec": {
   "display_name": "pt122",
   "language": "python",
   "name": "python3"
  },
  "language_info": {
   "codemirror_mode": {
    "name": "ipython",
    "version": 3
   },
   "file_extension": ".py",
   "mimetype": "text/x-python",
   "name": "python",
   "nbconvert_exporter": "python",
   "pygments_lexer": "ipython3",
   "version": "3.10.11"
  },
  "orig_nbformat": 4
 },
 "nbformat": 4,
 "nbformat_minor": 2
}
